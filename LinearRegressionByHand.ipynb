{
 "cells": [
  {
   "cell_type": "markdown",
   "id": "44434798",
   "metadata": {},
   "source": [
    "# Time Series Linear Regression from scratch\n",
    "### A small thing I thought was a big thing after it caught my attention at 1 AM\n",
    "### Resources used:\n",
    "- https://towardsdatascience.com/linear-regression-from-scratch-cd0dee067f72\n",
    "- https://www.youtube.com/watch?v=VmbA0pi2cRQ&t=11s\n",
    "- https://towardsdatascience.com/how-to-model-time-series-data-with-linear-regression-cd94d1d901c0\n",
    "\n",
    "The linear regression style that will be implemented will be least mean squared, however gradiant decent is also an option I will explore"
   ]
  },
  {
   "cell_type": "markdown",
   "id": "1c7532fa",
   "metadata": {},
   "source": [
    "# Ordinary Least Mean Square:\n",
    "Taking a look at the image below:\n",
    "![Example](https://miro.medium.com/v2/resize:fit:856/format:webp/1*2LEjQZEKKYAqKHt8niVp2Q.png)\n",
    "\n",
    "The line seen in the graph is the relationship between data that I want, we want to minimize the amount of error as much as possible, lines of best that pass through as many points as possible reduces error shown below in this image:\n",
    "![Example2](https://miro.medium.com/v2/resize:fit:710/1*LxQraU40CdL9Qd9uSsq_xg.gif)\n",
    "\n",
    "With the total error of the linear model being the sum of every error at each point:\n",
    "\n",
    "$\\sum_{i=1}^{n}r_{i}^2$\n",
    "\n",
    "We need to square each of the distance's because some poitns will be above and below the line, we can minimize error in the linear model by minimizing **r** therefore we have:\n",
    "\n",
    "$\\beta_{i} = \\frac{\\sum_{i}(x_{i}-x)(y_{i}-y)}{\\sum_{i}(x_{i}-x)^{2}}$"
   ]
  },
  {
   "cell_type": "markdown",
   "id": "f2604b90",
   "metadata": {},
   "source": [
    "# Getting data:\n",
    "I will not be using Numpy and will only use Pandas to get data and matplotlib to plot said data, nothing more will be used and everything else is implemented. **For our purposes I will be working with financial data using pandas data reader for Yahoo Finance**\n",
    "We will also be using **only** the **Adj Close** column for our purposes, with the date serving as the x axis and Adj Close on the y"
   ]
  },
  {
   "cell_type": "code",
   "execution_count": 2,
   "id": "01fb71ff",
   "metadata": {},
   "outputs": [],
   "source": [
    "import pandas as pd \n",
    "import matplotlib.pyplot as plt\n",
    "import pandas_datareader.data as pdr\n",
    "import yfinance as yf\n",
    "import math\n",
    "from datetime import datetime\n",
    "yf.pdr_override()\n",
    "start = datetime(2020, 1, 1)\n",
    "end = datetime(2023,1,1)"
   ]
  },
  {
   "cell_type": "code",
   "execution_count": 3,
   "id": "40ea4778",
   "metadata": {},
   "outputs": [
    {
     "name": "stdout",
     "output_type": "stream",
     "text": [
      "[*********************100%***********************]  1 of 1 completed\n",
      "(756, 6)\n"
     ]
    },
    {
     "data": {
      "text/html": [
       "<div>\n",
       "<style scoped>\n",
       "    .dataframe tbody tr th:only-of-type {\n",
       "        vertical-align: middle;\n",
       "    }\n",
       "\n",
       "    .dataframe tbody tr th {\n",
       "        vertical-align: top;\n",
       "    }\n",
       "\n",
       "    .dataframe thead th {\n",
       "        text-align: right;\n",
       "    }\n",
       "</style>\n",
       "<table border=\"1\" class=\"dataframe\">\n",
       "  <thead>\n",
       "    <tr style=\"text-align: right;\">\n",
       "      <th></th>\n",
       "      <th>Open</th>\n",
       "      <th>High</th>\n",
       "      <th>Low</th>\n",
       "      <th>Close</th>\n",
       "      <th>Adj Close</th>\n",
       "      <th>Volume</th>\n",
       "    </tr>\n",
       "    <tr>\n",
       "      <th>Date</th>\n",
       "      <th></th>\n",
       "      <th></th>\n",
       "      <th></th>\n",
       "      <th></th>\n",
       "      <th></th>\n",
       "      <th></th>\n",
       "    </tr>\n",
       "  </thead>\n",
       "  <tbody>\n",
       "    <tr>\n",
       "      <th>2020-01-02</th>\n",
       "      <td>74.059998</td>\n",
       "      <td>75.150002</td>\n",
       "      <td>73.797501</td>\n",
       "      <td>75.087502</td>\n",
       "      <td>73.449379</td>\n",
       "      <td>135480400</td>\n",
       "    </tr>\n",
       "    <tr>\n",
       "      <th>2020-01-03</th>\n",
       "      <td>74.287498</td>\n",
       "      <td>75.144997</td>\n",
       "      <td>74.125000</td>\n",
       "      <td>74.357498</td>\n",
       "      <td>72.735313</td>\n",
       "      <td>146322800</td>\n",
       "    </tr>\n",
       "    <tr>\n",
       "      <th>2020-01-06</th>\n",
       "      <td>73.447502</td>\n",
       "      <td>74.989998</td>\n",
       "      <td>73.187500</td>\n",
       "      <td>74.949997</td>\n",
       "      <td>73.314896</td>\n",
       "      <td>118387200</td>\n",
       "    </tr>\n",
       "    <tr>\n",
       "      <th>2020-01-07</th>\n",
       "      <td>74.959999</td>\n",
       "      <td>75.224998</td>\n",
       "      <td>74.370003</td>\n",
       "      <td>74.597504</td>\n",
       "      <td>72.970085</td>\n",
       "      <td>108872000</td>\n",
       "    </tr>\n",
       "    <tr>\n",
       "      <th>2020-01-08</th>\n",
       "      <td>74.290001</td>\n",
       "      <td>76.110001</td>\n",
       "      <td>74.290001</td>\n",
       "      <td>75.797501</td>\n",
       "      <td>74.143913</td>\n",
       "      <td>132079200</td>\n",
       "    </tr>\n",
       "  </tbody>\n",
       "</table>\n",
       "</div>"
      ],
      "text/plain": [
       "                 Open       High        Low      Close  Adj Close     Volume\n",
       "Date                                                                        \n",
       "2020-01-02  74.059998  75.150002  73.797501  75.087502  73.449379  135480400\n",
       "2020-01-03  74.287498  75.144997  74.125000  74.357498  72.735313  146322800\n",
       "2020-01-06  73.447502  74.989998  73.187500  74.949997  73.314896  118387200\n",
       "2020-01-07  74.959999  75.224998  74.370003  74.597504  72.970085  108872000\n",
       "2020-01-08  74.290001  76.110001  74.290001  75.797501  74.143913  132079200"
      ]
     },
     "execution_count": 3,
     "metadata": {},
     "output_type": "execute_result"
    }
   ],
   "source": [
    "ticker = [\"AAPL\"]\n",
    "aapl_data = pdr.get_data_yahoo(ticker, start,end)\n",
    "print(aapl_data.shape)\n",
    "aapl_data.head()"
   ]
  },
  {
   "cell_type": "code",
   "execution_count": 4,
   "id": "eaec2a1e",
   "metadata": {},
   "outputs": [
    {
     "name": "stdout",
     "output_type": "stream",
     "text": [
      "[*********************100%***********************]  1 of 1 completed\n",
      "(756, 6)\n"
     ]
    },
    {
     "data": {
      "text/html": [
       "<div>\n",
       "<style scoped>\n",
       "    .dataframe tbody tr th:only-of-type {\n",
       "        vertical-align: middle;\n",
       "    }\n",
       "\n",
       "    .dataframe tbody tr th {\n",
       "        vertical-align: top;\n",
       "    }\n",
       "\n",
       "    .dataframe thead th {\n",
       "        text-align: right;\n",
       "    }\n",
       "</style>\n",
       "<table border=\"1\" class=\"dataframe\">\n",
       "  <thead>\n",
       "    <tr style=\"text-align: right;\">\n",
       "      <th></th>\n",
       "      <th>Open</th>\n",
       "      <th>High</th>\n",
       "      <th>Low</th>\n",
       "      <th>Close</th>\n",
       "      <th>Adj Close</th>\n",
       "      <th>Volume</th>\n",
       "    </tr>\n",
       "    <tr>\n",
       "      <th>Date</th>\n",
       "      <th></th>\n",
       "      <th></th>\n",
       "      <th></th>\n",
       "      <th></th>\n",
       "      <th></th>\n",
       "      <th></th>\n",
       "    </tr>\n",
       "  </thead>\n",
       "  <tbody>\n",
       "    <tr>\n",
       "      <th>2020-01-02</th>\n",
       "      <td>323.540009</td>\n",
       "      <td>324.890015</td>\n",
       "      <td>322.529999</td>\n",
       "      <td>324.869995</td>\n",
       "      <td>308.517426</td>\n",
       "      <td>59151200</td>\n",
       "    </tr>\n",
       "    <tr>\n",
       "      <th>2020-01-03</th>\n",
       "      <td>321.160004</td>\n",
       "      <td>323.640015</td>\n",
       "      <td>321.100006</td>\n",
       "      <td>322.410004</td>\n",
       "      <td>306.181305</td>\n",
       "      <td>77709700</td>\n",
       "    </tr>\n",
       "    <tr>\n",
       "      <th>2020-01-06</th>\n",
       "      <td>320.489990</td>\n",
       "      <td>323.730011</td>\n",
       "      <td>320.359985</td>\n",
       "      <td>323.640015</td>\n",
       "      <td>307.349365</td>\n",
       "      <td>55653900</td>\n",
       "    </tr>\n",
       "    <tr>\n",
       "      <th>2020-01-07</th>\n",
       "      <td>323.019989</td>\n",
       "      <td>323.540009</td>\n",
       "      <td>322.239990</td>\n",
       "      <td>322.730011</td>\n",
       "      <td>306.485168</td>\n",
       "      <td>40496400</td>\n",
       "    </tr>\n",
       "    <tr>\n",
       "      <th>2020-01-08</th>\n",
       "      <td>322.940002</td>\n",
       "      <td>325.779999</td>\n",
       "      <td>322.670013</td>\n",
       "      <td>324.450012</td>\n",
       "      <td>308.118622</td>\n",
       "      <td>68296000</td>\n",
       "    </tr>\n",
       "  </tbody>\n",
       "</table>\n",
       "</div>"
      ],
      "text/plain": [
       "                  Open        High         Low       Close   Adj Close  \\\n",
       "Date                                                                     \n",
       "2020-01-02  323.540009  324.890015  322.529999  324.869995  308.517426   \n",
       "2020-01-03  321.160004  323.640015  321.100006  322.410004  306.181305   \n",
       "2020-01-06  320.489990  323.730011  320.359985  323.640015  307.349365   \n",
       "2020-01-07  323.019989  323.540009  322.239990  322.730011  306.485168   \n",
       "2020-01-08  322.940002  325.779999  322.670013  324.450012  308.118622   \n",
       "\n",
       "              Volume  \n",
       "Date                  \n",
       "2020-01-02  59151200  \n",
       "2020-01-03  77709700  \n",
       "2020-01-06  55653900  \n",
       "2020-01-07  40496400  \n",
       "2020-01-08  68296000  "
      ]
     },
     "execution_count": 4,
     "metadata": {},
     "output_type": "execute_result"
    }
   ],
   "source": [
    "ticker = [\"SPY\"]\n",
    "spy_data = pdr.get_data_yahoo(ticker, start,end)\n",
    "print(spy_data.shape)\n",
    "spy_data.head()"
   ]
  },
  {
   "cell_type": "markdown",
   "id": "bcee08d8",
   "metadata": {},
   "source": [
    "#### We will first be performing OLS Regression and then move on to statistical testing:"
   ]
  },
  {
   "cell_type": "code",
   "execution_count": 5,
   "id": "1aa3a445",
   "metadata": {},
   "outputs": [],
   "source": [
    "X = spy_data['Adj Close'].values\n",
    "Y = aapl_data['Adj Close'].values\n",
    "# print(X)\n",
    "# print(Y)"
   ]
  },
  {
   "cell_type": "code",
   "execution_count": 6,
   "id": "659327de",
   "metadata": {},
   "outputs": [
    {
     "name": "stdout",
     "output_type": "stream",
     "text": [
      "0.5017460197338045 -59.116413875867465\n"
     ]
    }
   ],
   "source": [
    "# Calculate mean manually:\n",
    "def get_mean(data):\n",
    "    sum = 0\n",
    "    for item in data:\n",
    "        sum+=item\n",
    "    return sum / data.size\n",
    "\n",
    "x_mean = get_mean(X)\n",
    "y_mean = get_mean(Y)\n",
    "n = X.size\n",
    "\n",
    "# Calculate B1 and B0\n",
    "numerator = 0\n",
    "denominator = 0\n",
    "for i in range(n):\n",
    "    numerator += (X[i] - x_mean) * (Y[i] - y_mean)\n",
    "    denominator += (X[i] - x_mean)**2\n",
    "    \n",
    "b1 = numerator/denominator\n",
    "b0 = y_mean - (b1 * x_mean)\n",
    "print(b1,b0)"
   ]
  },
  {
   "cell_type": "code",
   "execution_count": 7,
   "id": "1c23dbc8",
   "metadata": {},
   "outputs": [],
   "source": [
    "# Lets plot these values using matplotlib\n",
    "\n",
    "# Find max manually:\n",
    "def get_max(data):\n",
    "    max_item = 0\n",
    "    for item in data:\n",
    "        if item > max_item:\n",
    "            max_item = item\n",
    "    return max_item\n",
    "\n",
    "# Find min manually:\n",
    "def get_min(data):\n",
    "    min_item = 0\n",
    "    for item in data:\n",
    "        if min_item > item:\n",
    "            min_item = item\n",
    "    return min_item\n",
    "\n",
    "x_max = get_max(X)\n",
    "x_min = get_min(X) + 200 # Adjusted for scaling"
   ]
  },
  {
   "cell_type": "code",
   "execution_count": 8,
   "id": "9a40eb07",
   "metadata": {},
   "outputs": [
    {
     "data": {
      "image/png": "[encoded data removed]",
      "text/plain": [
       "<Figure size 640x480 with 1 Axes>"
      ]
     },
     "metadata": {},
     "output_type": "display_data"
    }
   ],
   "source": [
    "# For these purposes only we will use NumPy to get line spacing for graphing\n",
    "import numpy as np\n",
    "x = np.linspace(x_min, x_max, 1000)\n",
    "y = b0 + b1 * x\n",
    "\n",
    "# Plotting the line\n",
    "plt.plot(x,y,color='#000000',label='Linear Regression')\n",
    "plt.scatter(X,Y,color='#FFA500',label='Data Point')\n",
    "plt.xlabel('SPY Prices')\n",
    "plt.ylabel('AAPL Prices')\n",
    "plt.legend()\n",
    "plt.show()"
   ]
  },
  {
   "cell_type": "markdown",
   "id": "13f204fc",
   "metadata": {},
   "source": [
    "# Time to check our accuracy:\n",
    "We will be using a coefficient of Determination score to determine this."
   ]
  },
  {
   "cell_type": "code",
   "execution_count": 9,
   "id": "3a08747f",
   "metadata": {},
   "outputs": [
    {
     "name": "stdout",
     "output_type": "stream",
     "text": [
      "12.120868680346392\n"
     ]
    }
   ],
   "source": [
    "rmse = 0\n",
    "for i in range(n):\n",
    "    y_pred = b0 + b1*X[i]\n",
    "    rmse += (Y[i] - y_pred)**2\n",
    "\n",
    "rmse = math.sqrt(rmse/n)\n",
    "print(rmse)"
   ]
  },
  {
   "cell_type": "code",
   "execution_count": 10,
   "id": "0f908471",
   "metadata": {},
   "outputs": [
    {
     "name": "stdout",
     "output_type": "stream",
     "text": [
      "0.8446081350190522\n"
     ]
    }
   ],
   "source": [
    "sum_of_squares = 0\n",
    "sum_of_residuals = 0\n",
    "for i in range(n):\n",
    "    y_pred = b0 + b1 * X[i]\n",
    "    sum_of_squares += (Y[i] - y_mean)**2\n",
    "    sum_of_residuals += (Y[i] - y_pred)**2\n",
    "score = 1 - (sum_of_residuals/sum_of_squares)\n",
    "print(score)"
   ]
  },
  {
   "cell_type": "code",
   "execution_count": 11,
   "id": "6c20500e",
   "metadata": {},
   "outputs": [
    {
     "data": {
      "text/html": [
       "<div>\n",
       "<style scoped>\n",
       "    .dataframe tbody tr th:only-of-type {\n",
       "        vertical-align: middle;\n",
       "    }\n",
       "\n",
       "    .dataframe tbody tr th {\n",
       "        vertical-align: top;\n",
       "    }\n",
       "\n",
       "    .dataframe thead th {\n",
       "        text-align: right;\n",
       "    }\n",
       "</style>\n",
       "<table border=\"1\" class=\"dataframe\">\n",
       "  <thead>\n",
       "    <tr style=\"text-align: right;\">\n",
       "      <th></th>\n",
       "      <th>Residuals</th>\n",
       "    </tr>\n",
       "  </thead>\n",
       "  <tbody>\n",
       "    <tr>\n",
       "      <th>0</th>\n",
       "      <td>494.243925</td>\n",
       "    </tr>\n",
       "    <tr>\n",
       "      <th>1</th>\n",
       "      <td>474.086338</td>\n",
       "    </tr>\n",
       "    <tr>\n",
       "      <th>2</th>\n",
       "      <td>474.368886</td>\n",
       "    </tr>\n",
       "    <tr>\n",
       "      <th>3</th>\n",
       "      <td>470.508780</td>\n",
       "    </tr>\n",
       "    <tr>\n",
       "      <th>4</th>\n",
       "      <td>455.266074</td>\n",
       "    </tr>\n",
       "    <tr>\n",
       "      <th>...</th>\n",
       "      <td>...</td>\n",
       "    </tr>\n",
       "    <tr>\n",
       "      <th>751</th>\n",
       "      <td>0.381588</td>\n",
       "    </tr>\n",
       "    <tr>\n",
       "      <th>752</th>\n",
       "      <td>2.856690</td>\n",
       "    </tr>\n",
       "    <tr>\n",
       "      <th>753</th>\n",
       "      <td>10.922065</td>\n",
       "    </tr>\n",
       "    <tr>\n",
       "      <th>754</th>\n",
       "      <td>9.791948</td>\n",
       "    </tr>\n",
       "    <tr>\n",
       "      <th>755</th>\n",
       "      <td>5.312337</td>\n",
       "    </tr>\n",
       "  </tbody>\n",
       "</table>\n",
       "<p>756 rows × 1 columns</p>\n",
       "</div>"
      ],
      "text/plain": [
       "      Residuals\n",
       "0    494.243925\n",
       "1    474.086338\n",
       "2    474.368886\n",
       "3    470.508780\n",
       "4    455.266074\n",
       "..          ...\n",
       "751    0.381588\n",
       "752    2.856690\n",
       "753   10.922065\n",
       "754    9.791948\n",
       "755    5.312337\n",
       "\n",
       "[756 rows x 1 columns]"
      ]
     },
     "execution_count": 11,
     "metadata": {},
     "output_type": "execute_result"
    }
   ],
   "source": [
    "# Residual Table:\n",
    "residual_df = pd.DataFrame()\n",
    "residuals = []\n",
    "for i in range(n):\n",
    "    y_pred = b0 + b1 * X[i]\n",
    "    residuals.append((Y[i]-y_pred)**2)\n",
    "residual_df.insert(0,'Residuals',residuals)\n",
    "residual_df"
   ]
  },
  {
   "cell_type": "markdown",
   "id": "ef6573a7",
   "metadata": {},
   "source": [
    "# Time to perform normality testing including:\n",
    "- Jarque-Bera test\n",
    "- Shapiro-Wilk test \n",
    "\n",
    "We will be using scipy for this"
   ]
  },
  {
   "cell_type": "code",
   "execution_count": 12,
   "id": "402ee963",
   "metadata": {},
   "outputs": [
    {
     "name": "stdout",
     "output_type": "stream",
     "text": [
      "SignificanceResult(statistic=223.8026549232868, pvalue=2.522731126626896e-49)\n",
      "ShapiroResult(statistic=0.8483631610870361, pvalue=2.819394113789345e-26)\n"
     ]
    }
   ],
   "source": [
    "import scipy\n",
    "from scipy import stats\n",
    "\n",
    "# Normality\n",
    "jb = stats.jarque_bera(residual_df)\n",
    "sw = stats.shapiro(residual_df)\n",
    "print(jb)\n",
    "print(sw)"
   ]
  },
  {
   "cell_type": "code",
   "execution_count": null,
   "id": "8874b5b1",
   "metadata": {},
   "outputs": [],
   "source": []
  }
 ],
 "metadata": {
  "kernelspec": {
   "display_name": "Python 3 (ipykernel)",
   "language": "python",
   "name": "python3"
  },
  "language_info": {
   "codemirror_mode": {
    "name": "ipython",
    "version": 3
   },
   "file_extension": ".py",
   "mimetype": "text/x-python",
   "name": "python",
   "nbconvert_exporter": "python",
   "pygments_lexer": "ipython3",
   "version": "3.10.11"
  }
 },
 "nbformat": 4,
 "nbformat_minor": 5
}
